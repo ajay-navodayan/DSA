{
 "cells": [
  {
   "cell_type": "code",
   "execution_count": 10,
   "metadata": {},
   "outputs": [],
   "source": [
    "class Array:\n",
    "    def __init__(self):  \n",
    "        self.array = []\n",
    "        self.size = 0\n",
    "\n",
    "    def __len__(self):  \n",
    "        return self.size\n",
    "\n",
    "    def add_element(self, data):\n",
    "        self.array.append(data)\n",
    "        self.size += 1\n",
    "        \n",
    "    def find_min(self):\n",
    "        if self.size == 0:\n",
    "            print(\"array is empty\")\n",
    "        min_value = self.array[0]\n",
    "        for i in self.array:\n",
    "            if i < min_value:\n",
    "                min_value = i\n",
    "        return min_value\n",
    "\n",
    "    def find_max(self):\n",
    "        if self.size == 0:\n",
    "            print(\"array is empty\")\n",
    "        max_value = self.array[0]\n",
    "        for i in self.array:\n",
    "            if i > max_value:\n",
    "                max_value = i\n",
    "        return max_value"
   ]
  },
  {
   "cell_type": "code",
   "execution_count": 11,
   "metadata": {},
   "outputs": [
    {
     "name": "stdout",
     "output_type": "stream",
     "text": [
      "lenth of array is : 0\n"
     ]
    }
   ],
   "source": [
    "arr=Array()\n",
    "print('lenth of array is :',(len(arr)))  #initially length of array is zero"
   ]
  },
  {
   "cell_type": "code",
   "execution_count": 12,
   "metadata": {},
   "outputs": [
    {
     "name": "stdout",
     "output_type": "stream",
     "text": [
      "lenth of array is : 5\n"
     ]
    }
   ],
   "source": [
    "arr_list=[4,2,8,1,18]\n",
    "for i in arr_list:         #with the help of for loop i added element in array\n",
    "    arr.add_element(i)\n",
    "\n",
    "#now check len of array\n",
    "print('lenth of array is :',(len(arr)))  \n"
   ]
  },
  {
   "cell_type": "code",
   "execution_count": 14,
   "metadata": {},
   "outputs": [
    {
     "name": "stdout",
     "output_type": "stream",
     "text": [
      "this is minima of arraay : 1\n"
     ]
    }
   ],
   "source": [
    "#find maxima and minima\n",
    "minimum=arr.find_min()\n",
    "print(\"this is minima of arraay :\",(minimum))\n"
   ]
  },
  {
   "cell_type": "code",
   "execution_count": null,
   "metadata": {},
   "outputs": [],
   "source": []
  }
 ],
 "metadata": {
  "kernelspec": {
   "display_name": "Python 3",
   "language": "python",
   "name": "python3"
  },
  "language_info": {
   "codemirror_mode": {
    "name": "ipython",
    "version": 3
   },
   "file_extension": ".py",
   "mimetype": "text/x-python",
   "name": "python",
   "nbconvert_exporter": "python",
   "pygments_lexer": "ipython3",
   "version": "3.11.4"
  }
 },
 "nbformat": 4,
 "nbformat_minor": 2
}
